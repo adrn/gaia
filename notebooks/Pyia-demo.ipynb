{
 "cells": [
  {
   "cell_type": "markdown",
   "metadata": {},
   "source": [
    "In this demo, we'll show how to use `pyia` to transform the raw Gaia data in various ways. For example, to extract Astropy coordinate objects, to extinction-correct the photometry, and to reconstruct and sample from the Gaia error distribution (i.e. the full astrometric covariance matrix). \n",
    "\n",
    "We'll use [astropy](http://astropy.org), [pyia](http://pyia.readthedocs.io), and [gala](http://gala.adrian.pw) for this demo, which can be installed with (but make sure you have installed numpy, scipy, astropy, and cython):\n",
    "\n",
    "* `pip install pyia`\n",
    "* `pip install git+https://github.com/adrn/gala` \n",
    "\n",
    "(we install the developer version of `gala`)\n",
    "\n",
    "To make sure you have everything installed (and have anaconda installed), execute this in your terminal:\n",
    "```\n",
    "conda install numpy scipy astropy cython\n",
    "pip install astroquery pyia pyyaml\n",
    "pip install git+https://github.com/adrn/gala\n",
    "```"
   ]
  },
  {
   "cell_type": "code",
   "execution_count": null,
   "metadata": {},
   "outputs": [],
   "source": [
    "# Third-party\n",
    "import astropy.coordinates as coord\n",
    "import astropy.units as u\n",
    "import matplotlib.pyplot as plt\n",
    "import numpy as np\n",
    "%matplotlib inline\n",
    "\n",
    "import gala.coordinates as gc\n",
    "import gala.dynamics as gd\n",
    "import gala.potential as gp\n",
    "from gala.units import galactic\n",
    "from pyia import GaiaData"
   ]
  },
  {
   "cell_type": "markdown",
   "metadata": {},
   "source": [
    "As an example, we'll download a set of stars around the Hyades cluster. We can use `astropy.coordinates` to retrieve a coordinate object given the name (which queries Simbad for us):"
   ]
  },
  {
   "cell_type": "code",
   "execution_count": null,
   "metadata": {},
   "outputs": [],
   "source": [
    "c = coord.SkyCoord.from_name('Hyades')"
   ]
  },
  {
   "cell_type": "markdown",
   "metadata": {},
   "source": [
    "To get our hands on some Gaia data, we'll use the `.from_query()` classmethod to execute an ADQL query in the Gaia science archive, and retrieve the results as an astropy Table object. The query below will take a few seconds to execute, and will output a bunch of warnings - it is safe to ignore the warnings!"
   ]
  },
  {
   "cell_type": "code",
   "execution_count": null,
   "metadata": {
    "scrolled": false
   },
   "outputs": [],
   "source": [
    "g = GaiaData.from_query(\"\"\"SELECT * FROM gaiadr2.gaia_source \n",
    "                           WHERE parallax > 5. AND \n",
    "                           1=CONTAINS(\n",
    "                               POINT('ICRS', ra, dec),\n",
    "                               CIRCLE('ICRS', {c.ra.degree}, {c.dec.degree}, 5.))\"\"\"\n",
    "                        .format(c=c))"
   ]
  },
  {
   "cell_type": "markdown",
   "metadata": {},
   "source": [
    "How many objects were returned by this query?"
   ]
  },
  {
   "cell_type": "code",
   "execution_count": null,
   "metadata": {},
   "outputs": [],
   "source": [
    "len(g)"
   ]
  },
  {
   "cell_type": "markdown",
   "metadata": {},
   "source": [
    "The data are internally stored as an astropy table via the `.data` attribute:"
   ]
  },
  {
   "cell_type": "code",
   "execution_count": null,
   "metadata": {},
   "outputs": [],
   "source": [
    "g.data[:4]"
   ]
  },
  {
   "cell_type": "markdown",
   "metadata": {},
   "source": [
    "But the `GaiaData` object provides a number of convenience methods and attributes that will add units to Gaia quantities, and help in working with the Gaia data. For example, this includes simple things like compute the distance by inverting the parallax:"
   ]
  },
  {
   "cell_type": "code",
   "execution_count": null,
   "metadata": {},
   "outputs": [],
   "source": [
    "g.distance"
   ]
  },
  {
   "cell_type": "markdown",
   "metadata": {},
   "source": [
    "Or computing the distance modulus:"
   ]
  },
  {
   "cell_type": "code",
   "execution_count": null,
   "metadata": {},
   "outputs": [],
   "source": [
    "g.distmod"
   ]
  },
  {
   "cell_type": "markdown",
   "metadata": {},
   "source": [
    "But also includes more advanced things, as we'll see later. Let's start by looking at the distance distribution of stars in our query response:"
   ]
  },
  {
   "cell_type": "code",
   "execution_count": null,
   "metadata": {},
   "outputs": [],
   "source": [
    "plt.hist(g.get_distance().to_value(u.pc), bins='auto')\n",
    "plt.xlabel(r'distance, $1/\\varpi$ [pc]');"
   ]
  },
  {
   "cell_type": "markdown",
   "metadata": {},
   "source": [
    "The Hyades cluster pops out clearly as a peak around distance ~ 45\u201350 pc. Let's now look at the 2D proper motion distribution for stars within 100 pc and see if the Hyades shows up:"
   ]
  },
  {
   "cell_type": "code",
   "execution_count": null,
   "metadata": {},
   "outputs": [],
   "source": [
    "fig, ax = plt.subplots(1, 1, figsize=(6, 6))\n",
    "ax.hist2d(g.pmra.value[g.distance < 100*u.pc], \n",
    "          g.pmdec.value[g.distance < 100*u.pc],\n",
    "          bins=np.arange(-150, 150+1e-3, 5),\n",
    "          cmap='Greys');\n",
    "ax.set_xlabel('pmra [{:latex_inline}]'.format(g.pmra.unit))\n",
    "ax.set_ylabel('pmdec [{:latex_inline}]'.format(g.pmdec.unit));"
   ]
  },
  {
   "cell_type": "markdown",
   "metadata": {},
   "source": [
    "The Hyades again show up as a large over-density around (110, -25) mas/yr! Let's now combine some selections on distance and proper motion to do a rough selection of Hyades cluster members that have measured radial velocities in Gaia:"
   ]
  },
  {
   "cell_type": "code",
   "execution_count": null,
   "metadata": {},
   "outputs": [],
   "source": [
    "pm_mask = ((g.pmra > 50*u.mas/u.yr) & \n",
    "           (g.pmra < 150*u.mas/u.yr) & \n",
    "           (g.pmdec < 0*u.mas/u.yr) &\n",
    "           (g.pmdec > -50*u.mas/u.yr))\n",
    "dist_mask = (g.distance < 100*u.pc) & (g.parallax_over_error > 8)\n",
    "has_rv = np.isfinite(g.radial_velocity)"
   ]
  },
  {
   "cell_type": "code",
   "execution_count": null,
   "metadata": {},
   "outputs": [],
   "source": [
    "g_hyades = g[pm_mask & dist_mask & has_rv]\n",
    "len(g_hyades)"
   ]
  },
  {
   "cell_type": "markdown",
   "metadata": {},
   "source": [
    "So there are about 105 stars that match out (very rough, restrictive) cuts. Let's look at the color-magnitude diagram for these stars:"
   ]
  },
  {
   "cell_type": "code",
   "execution_count": null,
   "metadata": {},
   "outputs": [],
   "source": [
    "fig, ax = plt.subplots(1, 1, figsize=(5, 5))\n",
    "ax.plot(g_hyades.phot_bp_mean_mag - g_hyades.phot_rp_mean_mag,\n",
    "        g_hyades.phot_g_mean_mag - g_hyades.distmod, \n",
    "        marker='o', ms=3, ls='none', color='k')\n",
    "ax.set_xlim(0, 3)\n",
    "ax.set_ylim(10, -1)\n",
    "ax.set_xlabel('$G_{BP}-G_{RP}$')\n",
    "ax.set_ylabel('$M_G$');"
   ]
  },
  {
   "cell_type": "markdown",
   "metadata": {},
   "source": [
    "The beautifully line up on a thin main sequence in the CMD, so it looks like our selection is pretty pure.\n",
    "\n",
    "We now might want to look at the distribution of Hyades stars in Galactic cartesian coordinates. We can handle these coordinate frame and representation transformations using the [astropy.coordinates](http://docs.astropy.org/en/latest/coordinates/index.html) transformation machinery. To do this, we first have to retrieve an astropy `SkyCoord` object for our data. We can construct this object automatically with the `GaiaData` object using the `.get_skycoord()` method:"
   ]
  },
  {
   "cell_type": "code",
   "execution_count": null,
   "metadata": {},
   "outputs": [],
   "source": [
    "hyades_c = g_hyades.get_skycoord()"
   ]
  },
  {
   "cell_type": "markdown",
   "metadata": {},
   "source": [
    "And to transform to Galactocentric, Cartesian coordinates:"
   ]
  },
  {
   "cell_type": "code",
   "execution_count": null,
   "metadata": {},
   "outputs": [],
   "source": [
    "galcen = hyades_c.transform_to(coord.Galactocentric(galcen_distance=8.1*u.kpc))"
   ]
  },
  {
   "cell_type": "code",
   "execution_count": null,
   "metadata": {},
   "outputs": [],
   "source": [
    "fig, axes = plt.subplots(2, 2, figsize=(8, 8),\n",
    "                         sharex='col', sharey='row')\n",
    "\n",
    "style = dict(marker='o', ms=2., ls='none', color='k')\n",
    "axes[0, 0].plot(galcen.v_x, galcen.v_y, **style)\n",
    "axes[1, 0].plot(galcen.v_x, galcen.v_z, **style)\n",
    "axes[1, 1].plot(galcen.v_y, galcen.v_z, **style)\n",
    "axes[0, 1].set_visible(False)\n",
    "\n",
    "axes[0, 0].set_xlim(-40, -25)\n",
    "axes[0, 0].set_ylim(205, 220)\n",
    "axes[1, 0].set_ylim(0, 15)\n",
    "axes[1, 1].set_xlim(205, 220)\n",
    "\n",
    "for ax in axes.flat:\n",
    "    ax.set_aspect('equal')\n",
    "    \n",
    "axes[0, 0].set_ylabel('$v_y$')\n",
    "axes[1, 0].set_ylabel('$v_z$')\n",
    "axes[1, 0].set_xlabel('$v_x$')\n",
    "axes[1, 1].set_xlabel('$v_y$')\n",
    "    \n",
    "fig.tight_layout()"
   ]
  },
  {
   "cell_type": "markdown",
   "metadata": {},
   "source": [
    "However, these are just the point estimates reported in the Gaia catalog. We may want to propagate the (correlated) astrometric and radial velocity uncertainties for each source through this transformation. To do that, we can first generate samples from the error distribution and then transform the samples. To generate samples from the error distribution, we can use the `.get_error_samples()` method, here to generate 1000 random samples from each source's error distribution:"
   ]
  },
  {
   "cell_type": "code",
   "execution_count": null,
   "metadata": {},
   "outputs": [],
   "source": [
    "g_samples = g_hyades.get_error_samples(size=1000)"
   ]
  },
  {
   "cell_type": "code",
   "execution_count": null,
   "metadata": {},
   "outputs": [],
   "source": [
    "g_hyades.pmra.shape"
   ]
  },
  {
   "cell_type": "code",
   "execution_count": null,
   "metadata": {},
   "outputs": [],
   "source": [
    "g_samples.pmra.shape"
   ]
  },
  {
   "cell_type": "markdown",
   "metadata": {},
   "source": [
    "So, for each of the 105 Hyades-selected stars, we now have 1000 error samples as well. We transform these to Galactocentric coordinates in the same way:"
   ]
  },
  {
   "cell_type": "code",
   "execution_count": null,
   "metadata": {},
   "outputs": [],
   "source": [
    "hyades_samples_c = g_samples.get_skycoord()\n",
    "galcen_samples = hyades_samples_c.transform_to(coord.Galactocentric(galcen_distance=8.1*u.kpc))"
   ]
  },
  {
   "cell_type": "markdown",
   "metadata": {},
   "source": [
    "We can now look at the typical velocity uncertainties for each source in each of the velocity components:"
   ]
  },
  {
   "cell_type": "code",
   "execution_count": null,
   "metadata": {},
   "outputs": [],
   "source": [
    "bins = np.linspace(0, 1.5, 21)\n",
    "plt.hist(np.std(galcen_samples.v_x, axis=1), \n",
    "         bins=bins, label=r'$v_x$', alpha=0.4)\n",
    "plt.hist(np.std(galcen_samples.v_y, axis=1), \n",
    "         bins=bins, label=r'$v_y$', alpha=0.4)\n",
    "plt.hist(np.std(galcen_samples.v_z, axis=1), \n",
    "         bins=bins, label=r'$v_z$', alpha=0.4)\n",
    "plt.xlabel(r'$\\sigma_{v}$ ' + '[{:latex_inline}]'.format(u.km/u.s))"
   ]
  },
  {
   "cell_type": "markdown",
   "metadata": {},
   "source": [
    "However, the above only shows the uncorrelated uncertainties. The error samples will generically be correlated, e.g.:"
   ]
  },
  {
   "cell_type": "code",
   "execution_count": null,
   "metadata": {},
   "outputs": [],
   "source": [
    "fig, ax = plt.subplots(1, 1, figsize=(5, 5))\n",
    "ax.plot(galcen_samples.v_x[0], \n",
    "        galcen_samples.v_z[0],\n",
    "        marker='o', ms=2., color='k', alpha=0.4, ls='none')\n",
    "ax.set_xlabel(r'$v_x$')\n",
    "ax.set_ylabel(r'$v_z$')"
   ]
  },
  {
   "cell_type": "markdown",
   "metadata": {},
   "source": [
    "With Galactocentric coordinates for these sources, and an assumed model for the Milky Way, we can also numerically integrate the orbits of these stars and look at their Galactic orbits. We'll use the default Milky Way model implemented in Gala, and integrate the orbits of the Hyades stars backwards in time for 400 Myr:"
   ]
  },
  {
   "cell_type": "code",
   "execution_count": null,
   "metadata": {},
   "outputs": [],
   "source": [
    "potential = gp.MilkyWayPotential()"
   ]
  },
  {
   "cell_type": "code",
   "execution_count": null,
   "metadata": {},
   "outputs": [],
   "source": [
    "# transform to initial conditions\n",
    "w0 = gd.PhaseSpacePosition(galcen.data)\n",
    "orbits = potential.integrate_orbit(w0, dt=-0.1*u.Myr, n_steps=4000)"
   ]
  },
  {
   "cell_type": "code",
   "execution_count": null,
   "metadata": {},
   "outputs": [],
   "source": [
    "orbits.shape"
   ]
  },
  {
   "cell_type": "markdown",
   "metadata": {},
   "source": [
    "Plot the orbits:"
   ]
  },
  {
   "cell_type": "code",
   "execution_count": null,
   "metadata": {},
   "outputs": [],
   "source": [
    "_ = orbits.plot(marker='', linestyle='-', \n",
    "                linewidth=0.5, alpha=0.5, color='k')"
   ]
  },
  {
   "cell_type": "markdown",
   "metadata": {},
   "source": [
    "With the orbit objects, we can also compute the eccentricities of the orbits in the Galaxy:"
   ]
  },
  {
   "cell_type": "code",
   "execution_count": null,
   "metadata": {},
   "outputs": [],
   "source": [
    "ecc = orbits.eccentricity()"
   ]
  },
  {
   "cell_type": "code",
   "execution_count": null,
   "metadata": {},
   "outputs": [],
   "source": [
    "ecc.shape"
   ]
  },
  {
   "cell_type": "code",
   "execution_count": null,
   "metadata": {},
   "outputs": [],
   "source": [
    "plt.hist(ecc, bins='auto');\n",
    "plt.xlabel('eccentricity')"
   ]
  },
  {
   "cell_type": "code",
   "execution_count": null,
   "metadata": {},
   "outputs": [],
   "source": []
  }
 ],
 "metadata": {
  "_draft": {
   "nbviewer_url": "https://gist.github.com/dbf561e57dd84d6eb1987d2e84f96903"
  },
  "gist": {
   "data": {
    "description": "pyia/notebooks/Pyia-demo.ipynb",
    "public": true
   },
   "id": "dbf561e57dd84d6eb1987d2e84f96903"
  },
  "kernelspec": {
   "display_name": "Python [default]",
   "language": "python",
   "name": "python3"
  },
  "language_info": {
   "codemirror_mode": {
    "name": "ipython",
    "version": 3
   },
   "file_extension": ".py",
   "mimetype": "text/x-python",
   "name": "python",
   "nbconvert_exporter": "python",
   "pygments_lexer": "ipython3",
   "version": "3.6.8"
  }
 },
 "nbformat": 4,
 "nbformat_minor": 2
}